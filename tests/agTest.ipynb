{
 "cells": [
  {
   "cell_type": "code",
   "execution_count": 1,
   "metadata": {},
   "outputs": [],
   "source": [
    "import json"
   ]
  },
  {
   "cell_type": "code",
   "execution_count": 3,
   "metadata": {},
   "outputs": [],
   "source": [
    "# load diarized json data\n",
    "data_file = open('./tests/diarized_data.json')\n",
    "data = json.load(data_file)"
   ]
  },
  {
   "cell_type": "code",
   "execution_count": 4,
   "metadata": {},
   "outputs": [
    {
     "name": "stdout",
     "output_type": "stream",
     "text": [
      "{'start': 277.529, 'end': 279.21, 'text': ' Yeah, just move on with my life.', 'words': [{'word': 'Yeah,', 'start': 277.529, 'end': 277.769, 'score': 0.56, 'speaker': 'SPEAKER_00'}, {'word': 'just', 'start': 278.069, 'end': 278.189, 'score': 0.264, 'speaker': 'SPEAKER_00'}, {'word': 'move', 'start': 278.45, 'end': 278.63, 'score': 0.88, 'speaker': 'SPEAKER_00'}, {'word': 'on', 'start': 278.67, 'end': 278.75, 'score': 0.849, 'speaker': 'SPEAKER_00'}, {'word': 'with', 'start': 278.77, 'end': 278.85, 'score': 0.21, 'speaker': 'SPEAKER_00'}, {'word': 'my', 'start': 278.87, 'end': 278.99, 'score': 0.37, 'speaker': 'SPEAKER_00'}, {'word': 'life.', 'start': 279.03, 'end': 279.21, 'score': 0.572, 'speaker': 'SPEAKER_00'}], 'speaker': 'SPEAKER_00'}\n",
      "{'start': 279.23, 'end': 281.171, 'text': 'Awesome.', 'words': [{'word': 'Awesome.', 'start': 279.23, 'end': 281.171, 'score': 0.677, 'speaker': 'SPEAKER_01'}], 'speaker': 'SPEAKER_01'}\n"
     ]
    }
   ],
   "source": [
    "print(data[-2])\n",
    "print(data[-1])"
   ]
  },
  {
   "cell_type": "code",
   "execution_count": 6,
   "metadata": {},
   "outputs": [
    {
     "ename": "ModuleNotFoundError",
     "evalue": "No module named 'AnnotationGraph'",
     "output_type": "error",
     "traceback": [
      "\u001b[0;31m---------------------------------------------------------------------------\u001b[0m",
      "\u001b[0;31mModuleNotFoundError\u001b[0m                       Traceback (most recent call last)",
      "Cell \u001b[0;32mIn[6], line 1\u001b[0m\n\u001b[0;32m----> 1\u001b[0m \u001b[38;5;28;01mfrom\u001b[39;00m \u001b[38;5;21;01mAnnotationGraph\u001b[39;00m \u001b[38;5;28;01mimport\u001b[39;00m Annotation\n",
      "\u001b[0;31mModuleNotFoundError\u001b[0m: No module named 'AnnotationGraph'"
     ]
    }
   ],
   "source": [
    "from AnnotationGraph import Annotation"
   ]
  },
  {
   "cell_type": "code",
   "execution_count": null,
   "metadata": {},
   "outputs": [],
   "source": [
    "annotation = Annotation()"
   ]
  },
  {
   "cell_type": "code",
   "execution_count": null,
   "metadata": {},
   "outputs": [],
   "source": []
  }
 ],
 "metadata": {
  "kernelspec": {
   "display_name": ".venv",
   "language": "python",
   "name": "python3"
  },
  "language_info": {
   "codemirror_mode": {
    "name": "ipython",
    "version": 3
   },
   "file_extension": ".py",
   "mimetype": "text/x-python",
   "name": "python",
   "nbconvert_exporter": "python",
   "pygments_lexer": "ipython3",
   "version": "3.10.12"
  }
 },
 "nbformat": 4,
 "nbformat_minor": 2
}
