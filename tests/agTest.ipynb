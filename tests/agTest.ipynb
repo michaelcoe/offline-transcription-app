{
 "cells": [
  {
   "cell_type": "code",
   "execution_count": 1,
   "metadata": {},
   "outputs": [],
   "source": [
    "import json"
   ]
  },
  {
   "cell_type": "code",
   "execution_count": 2,
   "metadata": {},
   "outputs": [],
   "source": [
    "# load diarized json data\n",
    "data_file = open('diarized_data.json')\n",
    "data = json.load(data_file)"
   ]
  },
  {
   "cell_type": "code",
   "execution_count": 16,
   "metadata": {},
   "outputs": [
    {
     "name": "stdout",
     "output_type": "stream",
     "text": [
      "{'start': 0.269, 'end': 6.154, 'text': \" Um, just lying in bed, not really doing much, asleep, and then I woke up and I didn't get out of bed.\", 'words': [{'word': 'Um,', 'start': 0.269, 'end': 0.509, 'score': 0.801, 'speaker': 'SPEAKER_00'}, {'word': 'just', 'start': 1.29, 'end': 1.45, 'score': 0.804, 'speaker': 'SPEAKER_00'}, {'word': 'lying', 'start': 1.53, 'end': 1.75, 'score': 0.609, 'speaker': 'SPEAKER_00'}, {'word': 'in', 'start': 1.79, 'end': 1.87, 'score': 0.468, 'speaker': 'SPEAKER_00'}, {'word': 'bed,', 'start': 1.89, 'end': 2.111, 'score': 0.905, 'speaker': 'SPEAKER_00'}, {'word': 'not', 'start': 2.431, 'end': 2.511, 'score': 0.461, 'speaker': 'SPEAKER_00'}, {'word': 'really', 'start': 2.531, 'end': 2.711, 'score': 0.625, 'speaker': 'SPEAKER_00'}, {'word': 'doing', 'start': 2.731, 'end': 2.911, 'score': 0.883, 'speaker': 'SPEAKER_00'}, {'word': 'much,', 'start': 2.951, 'end': 3.151, 'score': 0.935, 'speaker': 'SPEAKER_00'}, {'word': 'asleep,', 'start': 3.392, 'end': 3.732, 'score': 0.734, 'speaker': 'SPEAKER_00'}, {'word': 'and', 'start': 3.892, 'end': 3.972, 'score': 0.905, 'speaker': 'SPEAKER_00'}, {'word': 'then', 'start': 3.992, 'end': 4.132, 'score': 0.797, 'speaker': 'SPEAKER_00'}, {'word': 'I', 'start': 4.172, 'end': 4.232, 'score': 0.783, 'speaker': 'SPEAKER_00'}, {'word': 'woke', 'start': 4.272, 'end': 4.452, 'score': 0.846, 'speaker': 'SPEAKER_00'}, {'word': 'up', 'start': 4.512, 'end': 4.613, 'score': 0.982, 'speaker': 'SPEAKER_00'}, {'word': 'and', 'start': 4.993, 'end': 5.193, 'score': 0.705, 'speaker': 'SPEAKER_00'}, {'word': 'I', 'start': 5.413, 'end': 5.473, 'score': 0.89, 'speaker': 'SPEAKER_00'}, {'word': \"didn't\", 'start': 5.513, 'end': 5.693, 'score': 0.837, 'speaker': 'SPEAKER_00'}, {'word': 'get', 'start': 5.713, 'end': 5.793, 'score': 0.83, 'speaker': 'SPEAKER_00'}, {'word': 'out', 'start': 5.813, 'end': 5.874, 'score': 0.15, 'speaker': 'SPEAKER_00'}, {'word': 'of', 'start': 5.914, 'end': 5.954, 'score': 0.435, 'speaker': 'SPEAKER_00'}, {'word': 'bed.', 'start': 5.974, 'end': 6.154, 'score': 0.896, 'speaker': 'SPEAKER_00'}], 'speaker': 'SPEAKER_00'}\n",
      "{'start': 6.754, 'end': 14.34, 'text': \"Even though people were like, you know, windows are going to fall on you, the roof might come in, but I don't know, I'm a bit, what do you say, was the word pessimistic?\", 'words': [{'word': 'Even', 'start': 6.754, 'end': 6.874, 'score': 0.893, 'speaker': 'SPEAKER_00'}, {'word': 'though', 'start': 6.914, 'end': 7.034, 'score': 0.882, 'speaker': 'SPEAKER_00'}, {'word': 'people', 'start': 7.054, 'end': 7.175, 'score': 0.332, 'speaker': 'SPEAKER_00'}, {'word': 'were', 'start': 7.195, 'end': 7.275, 'score': 0.248, 'speaker': 'SPEAKER_00'}, {'word': 'like,', 'start': 7.295, 'end': 7.375, 'score': 0.004, 'speaker': 'SPEAKER_00'}, {'word': 'you', 'start': 7.395, 'end': 7.455, 'score': 0.924, 'speaker': 'SPEAKER_00'}, {'word': 'know,', 'start': 7.495, 'end': 7.635, 'score': 0.908, 'speaker': 'SPEAKER_00'}, {'word': 'windows', 'start': 7.715, 'end': 8.035, 'score': 0.777, 'speaker': 'SPEAKER_00'}, {'word': 'are', 'start': 8.055, 'end': 8.115, 'score': 0.078, 'speaker': 'SPEAKER_00'}, {'word': 'going', 'start': 8.135, 'end': 8.235, 'score': 0.603, 'speaker': 'SPEAKER_00'}, {'word': 'to', 'start': 8.255, 'end': 8.295, 'score': 0.154, 'speaker': 'SPEAKER_00'}, {'word': 'fall', 'start': 8.315, 'end': 8.496, 'score': 0.789, 'speaker': 'SPEAKER_00'}, {'word': 'on', 'start': 8.536, 'end': 8.596, 'score': 0.988, 'speaker': 'SPEAKER_00'}, {'word': 'you,', 'start': 8.636, 'end': 8.836, 'score': 0.902, 'speaker': 'SPEAKER_00'}, {'word': 'the', 'start': 9.156, 'end': 9.256, 'score': 0.736, 'speaker': 'SPEAKER_00'}, {'word': 'roof', 'start': 9.276, 'end': 9.436, 'score': 0.935, 'speaker': 'SPEAKER_00'}, {'word': 'might', 'start': 9.476, 'end': 9.596, 'score': 0.848, 'speaker': 'SPEAKER_00'}, {'word': 'come', 'start': 9.636, 'end': 9.757, 'score': 0.717, 'speaker': 'SPEAKER_00'}, {'word': 'in,', 'start': 9.777, 'end': 9.857, 'score': 0.866, 'speaker': 'SPEAKER_00'}, {'word': 'but', 'start': 9.897, 'end': 10.077, 'score': 0.899, 'speaker': 'SPEAKER_00'}, {'word': 'I', 'start': 10.177, 'end': 10.217, 'score': 0.881, 'speaker': 'SPEAKER_00'}, {'word': \"don't\", 'start': 10.257, 'end': 10.357, 'score': 0.555, 'speaker': 'SPEAKER_00'}, {'word': 'know,', 'start': 10.377, 'end': 10.477, 'score': 0.199, 'speaker': 'SPEAKER_00'}, {'word': \"I'm\", 'start': 10.497, 'end': 10.697, 'score': 0.428, 'speaker': 'SPEAKER_00'}, {'word': 'a', 'start': 10.717, 'end': 10.737, 'score': 0.029, 'speaker': 'SPEAKER_00'}, {'word': 'bit,', 'start': 10.797, 'end': 10.857, 'score': 0.002, 'speaker': 'SPEAKER_00'}, {'word': 'what', 'start': 10.877, 'end': 10.997, 'score': 0.267, 'speaker': 'SPEAKER_00'}, {'word': 'do', 'start': 11.017, 'end': 11.778, 'score': 0.486, 'speaker': 'SPEAKER_00'}, {'word': 'you', 'start': 11.798, 'end': 11.978, 'score': 0.861, 'speaker': 'SPEAKER_00'}, {'word': 'say,', 'start': 12.018, 'end': 12.258, 'score': 0.812, 'speaker': 'SPEAKER_00'}, {'word': 'was', 'start': 13.199, 'end': 13.279, 'score': 0.835, 'speaker': 'SPEAKER_00'}, {'word': 'the', 'start': 13.299, 'end': 13.379, 'score': 0.116, 'speaker': 'SPEAKER_00'}, {'word': 'word', 'start': 13.399, 'end': 13.559, 'score': 0.822, 'speaker': 'SPEAKER_00'}, {'word': 'pessimistic?', 'start': 13.72, 'end': 14.34, 'score': 0.619, 'speaker': 'SPEAKER_00'}], 'speaker': 'SPEAKER_00'}\n"
     ]
    }
   ],
   "source": [
    "print(data[0])\n",
    "print(data[1])"
   ]
  },
  {
   "cell_type": "code",
   "execution_count": null,
   "metadata": {},
   "outputs": [],
   "source": []
  }
 ],
 "metadata": {
  "kernelspec": {
   "display_name": ".venv",
   "language": "python",
   "name": "python3"
  },
  "language_info": {
   "codemirror_mode": {
    "name": "ipython",
    "version": 3
   },
   "file_extension": ".py",
   "mimetype": "text/x-python",
   "name": "python",
   "nbconvert_exporter": "python",
   "pygments_lexer": "ipython3",
   "version": "3.10.12"
  }
 },
 "nbformat": 4,
 "nbformat_minor": 2
}
